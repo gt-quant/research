{
 "cells": [
  {
   "cell_type": "code",
   "execution_count": 2,
   "metadata": {},
   "outputs": [
    {
     "name": "stdout",
     "output_type": "stream",
     "text": [
      "The autoreload extension is already loaded. To reload it, use:\n",
      "  %reload_ext autoreload\n"
     ]
    }
   ],
   "source": [
    "import pandas as pd\n",
    "import numpy as np\n",
    "import matplotlib.pyplot as plt\n",
    "import matplotlib.dates as mdates\n",
    "from datetime import datetime, timedelta\n",
    "\n",
    "pd.set_option('display.max_rows', 120)\n",
    "pd.set_option('display.max_columns', 120)\n",
    "\n",
    "%load_ext autoreload\n",
    "%autoreload 2\n",
    "# %reload_ext autoreload\n",
    "\n",
    "from utils import show_heat_map, print_mutual_info, aggregate_data, resample_df, load_big_df\n",
    "from utils import two_sig_signal, two_sig_signal_multi, get_yulu_df, nice_hist_series, plot_box_plot\n",
    "from utils import plot_box_plot_a, get_future_df, get_future_smoothed_df\n",
    "\n",
    "from lin_regr_utils import lin_regr, linearity_test, residual_independence_test, homoscedasticity_test, residual_normality_test\n",
    "from lin_regr_utils import multicollinearity_test, get_stats\n",
    "\n",
    "# import warnings\n",
    "# warnings.filterwarnings(\"ignore\", category=pd.errors.SettingWithCopyWarning)\n"
   ]
  },
  {
   "cell_type": "code",
   "execution_count": 3,
   "metadata": {},
   "outputs": [],
   "source": [
    "def get_future_df_yulu(df_raw, ref_df, interval='1S'):\n",
    "    df_raw['time'] = pd.to_datetime(df_raw['time'], unit='s')\n",
    "    df_raw['round_time'] = df_raw['time'].dt.round(interval)\n",
    "    \n",
    "    rrdf = ref_df.rename(columns={'time': 'r_time'})\n",
    "\n",
    "    df_raw_r = pd.merge(df_raw, rrdf, left_on='round_time', right_on='r_time', how='left') #.drop(columns=['r_time'])\n",
    "    return df_raw_r\n",
    "\n",
    "def process_yulu(df_raw, time_step='1T'):\n",
    "    df_raw = df_raw[['time', 'mid', 'trade_side', 'trade_size', 'trade_price']]\n",
    "    # display(df_raw)\n",
    "\n",
    "    df_raw['mul'] = df_raw['trade_size'] * df_raw['trade_price']\n",
    "    df_raw['time'] = pd.to_datetime(df_raw['time'], unit='s')\n",
    "\n",
    "    # Group by 'time' and conditionally sum 'A' based on 'B' == 'X'\n",
    "    df_buy = df_raw[df_raw['trade_side'] == 'Buy'].groupby('time', as_index=False).agg(\n",
    "        trade_mul_sum=('mul', 'sum'),\n",
    "        trade_size_sum=('trade_size', 'sum'),\n",
    "    )\n",
    "    df_sell = df_raw[df_raw['trade_side'] == 'Sell'].groupby('time', as_index=False).agg(\n",
    "        trade_mul_sum=('mul', 'sum'),\n",
    "        trade_size_sum=('trade_size', 'sum'),\n",
    "    )\n",
    "\n",
    "    df_buy.set_index('time', inplace=True)\n",
    "    df_sell.set_index('time', inplace=True)\n",
    "\n",
    "    df_ob = df_raw[df_raw['trade_side'].isna()].drop(columns=['trade_side', 'trade_size', 'trade_price'])\n",
    "    df_ob.set_index('time', inplace=True)\n",
    "\n",
    "    # time_step = '1T'\n",
    "    # SUM_TRADE_SIZE = df_raw['trade_size'].sum()\n",
    "    df_buy_resampled = df_buy.resample(time_step).agg({\n",
    "            'trade_size_sum': 'sum',  # Sum for size\n",
    "            'trade_mul_sum': 'sum',  # Min for min price\n",
    "        }).rename(columns={'trade_size_sum': 'buy_size', 'trade_mul_sum': 'buy_mul'})\n",
    "    df_sell_resampled = df_sell.resample(time_step).agg({\n",
    "            'trade_size_sum': 'sum',  # Sum for size\n",
    "            'trade_mul_sum': 'sum',  # Min for min price\n",
    "        }).rename(columns={'trade_size_sum': 'sell_size', 'trade_mul_sum': 'sell_mul'})\n",
    "    df_ob_resampled = df_ob.resample(time_step).last()\n",
    "    df = df_ob_resampled.join(df_buy_resampled.join(df_sell_resampled, how='outer'), how='outer')\n",
    "\n",
    "    for col in ['buy_size', 'sell_size']:\n",
    "        df[col] = df[col].fillna(0)\n",
    "\n",
    "    for col in ['mid']:\n",
    "        df[col] = df[col].ffill()  \n",
    "    return df"
   ]
  },
  {
   "cell_type": "code",
   "execution_count": 4,
   "metadata": {},
   "outputs": [],
   "source": [
    "df_raw = pd.read_csv(\"../simulation_data/output_20250414_GALAUSDTOB500_GALAUSDTtrades_AA.csv\")\n",
    "# df_raw\n",
    "df = df_raw"
   ]
  },
  {
   "cell_type": "code",
   "execution_count": 5,
   "metadata": {},
   "outputs": [
    {
     "name": "stderr",
     "output_type": "stream",
     "text": [
      "<ipython-input-3-8b40f1f7bdb6>:14: SettingWithCopyWarning: \n",
      "A value is trying to be set on a copy of a slice from a DataFrame.\n",
      "Try using .loc[row_indexer,col_indexer] = value instead\n",
      "\n",
      "See the caveats in the documentation: https://pandas.pydata.org/pandas-docs/stable/user_guide/indexing.html#returning-a-view-versus-a-copy\n",
      "  df_raw['mul'] = df_raw['trade_size'] * df_raw['trade_price']\n",
      "<ipython-input-3-8b40f1f7bdb6>:15: SettingWithCopyWarning: \n",
      "A value is trying to be set on a copy of a slice from a DataFrame.\n",
      "Try using .loc[row_indexer,col_indexer] = value instead\n",
      "\n",
      "See the caveats in the documentation: https://pandas.pydata.org/pandas-docs/stable/user_guide/indexing.html#returning-a-view-versus-a-copy\n",
      "  df_raw['time'] = pd.to_datetime(df_raw['time'], unit='s')\n"
     ]
    },
    {
     "name": "stdout",
     "output_type": "stream",
     "text": [
      "<class 'pandas.core.frame.DataFrame'>\n",
      "Int64Index: 735184 entries, 0 to 735183\n",
      "Data columns (total 18 columns):\n",
      " #   Column       Non-Null Count   Dtype         \n",
      "---  ------       --------------   -----         \n",
      " 0   time         735184 non-null  datetime64[ns]\n",
      " 1   bbid         630049 non-null  float64       \n",
      " 2   bask         630049 non-null  float64       \n",
      " 3   bsize        630049 non-null  float64       \n",
      " 4   asize        630049 non-null  float64       \n",
      " 5   trade_side   105135 non-null  object        \n",
      " 6   trade_size   105135 non-null  float64       \n",
      " 7   trade_price  105135 non-null  float64       \n",
      " 8   round_time   735184 non-null  datetime64[ns]\n",
      " 9   r_time       735184 non-null  datetime64[ns]\n",
      " 10  mid          735184 non-null  float64       \n",
      " 11  mul          0 non-null       float64       \n",
      " 12  buy_size     735184 non-null  float64       \n",
      " 13  buy_mul      734770 non-null  float64       \n",
      " 14  sell_size    735184 non-null  float64       \n",
      " 15  sell_mul     734969 non-null  float64       \n",
      " 16  vwap         617085 non-null  float64       \n",
      " 17  alpha        98780 non-null   float64       \n",
      "dtypes: datetime64[ns](3), float64(14), object(1)\n",
      "memory usage: 106.6+ MB\n"
     ]
    },
    {
     "data": {
      "image/png": "[encoded data removed]",
      "text/plain": [
       "<Figure size 432x288 with 1 Axes>"
      ]
     },
     "metadata": {
      "needs_background": "light"
     },
     "output_type": "display_data"
    }
   ],
   "source": [
    "TIME_STEP = '10S'\n",
    "\n",
    "ydf = df_raw[df_raw.columns]\n",
    "ydf['mid'] = (ydf['bbid'] + ydf['bask']) / 2\n",
    "\n",
    "df1 = process_yulu(ydf, TIME_STEP)\n",
    "df1['vwap'] = (df1['buy_mul'] + df1['sell_mul']) / (df1['buy_size'] + df1['sell_size'])\n",
    "df1['alpha'] = np.log(df1['vwap'].rolling(5).mean() / df1['vwap'].rolling(20).mean())\n",
    "fdf1 = get_future_df_yulu(df_raw, df1.reset_index(), TIME_STEP)\n",
    "\n",
    "plt.hist(fdf1['vwap'], bins=30)\n",
    "fdf1.info()"
   ]
  },
  {
   "cell_type": "code",
   "execution_count": 15,
   "metadata": {},
   "outputs": [
    {
     "data": {
      "image/png": "[encoded data removed]",
      "text/plain": [
       "<Figure size 432x288 with 1 Axes>"
      ]
     },
     "metadata": {
      "needs_background": "light"
     },
     "output_type": "display_data"
    },
    {
     "data": {
      "image/png": "[encoded data removed]",
      "text/plain": [
       "<Figure size 432x288 with 1 Axes>"
      ]
     },
     "metadata": {
      "needs_background": "light"
     },
     "output_type": "display_data"
    },
    {
     "data": {
      "image/png": "[encoded data removed]",
      "text/plain": [
       "<Figure size 432x288 with 1 Axes>"
      ]
     },
     "metadata": {
      "needs_background": "light"
     },
     "output_type": "display_data"
    },
    {
     "data": {
      "image/png": "[encoded data removed]",
      "text/plain": [
       "<Figure size 432x288 with 1 Axes>"
      ]
     },
     "metadata": {
      "needs_background": "light"
     },
     "output_type": "display_data"
    },
    {
     "data": {
      "image/png": "[encoded data removed]",
      "text/plain": [
       "<Figure size 432x288 with 1 Axes>"
      ]
     },
     "metadata": {
      "needs_background": "light"
     },
     "output_type": "display_data"
    }
   ],
   "source": [
    "%reload_ext autoreload\n",
    "# dff.iloc[300:400]\n",
    "# bdf\n",
    "\n",
    "fdf11 = get_future_df(fdf1.reset_index(), '10S')\n",
    "plt.scatter(fdf11['alpha'], fdf11['future_1m_return'])\n",
    "plt.show()\n",
    "\n",
    "plt.scatter(fdf11['mid'], fdf11['future_1m_mid'])\n",
    "plt.show()\n",
    "\n",
    "plt.hist(fdf11['future_1m_return'], bins=30)\n",
    "plt.show()\n",
    "# plot_box_plot_a(fdf11, 'alpha', 'future_1m_return')\n",
    "\n",
    "fdf11 = get_future_smoothed_df(fdf1.reset_index(), '1S', 600, 120, 120)\n",
    "plt.scatter(fdf11['alpha'], fdf11['future_smoothed_600_return'])\n",
    "plt.show()\n",
    "\n",
    "plt.scatter(fdf11['mid'], fdf11['future_1m_mid'])\n",
    "plt.show()\n",
    "\n",
    "plt.hist(fdf11['future_smoothed_600_return'], bins=30)\n",
    "plt.show()\n",
    "# plot_box_plot_a(fdf11, 'alpha', 'future_smoothed_600_return')\n",
    "\n",
    "# bdf = dff.dropna(subset=['buy_trade_size_sum'])\n",
    "# fbdf = fdf.dropna(subset=['buy_trade_size_sum'])\n",
    "\n",
    "# EDGE = 1\n",
    "\n",
    "# tick_edge_bdf = fbdf[fbdf['buy_trade_price_max'] - fbdf['bask'] >= 0.00001 * EDGE]\n",
    "# tick_edge_bdf['pnl'] = (tick_edge_bdf['bask'] + 0.00001 * EDGE - tick_edge_bdf['future_1m_mid']) * 100000\n",
    "# tick_edge_bdf['mid_pnl'] = (tick_edge_bdf['future_1m_mid'] - tick_edge_bdf['mid']) * 100000\n",
    "# plt.hist(tick_edge_bdf['pnl'], bins=30)\n",
    "# print(f\"{len(tick_edge_bdf)}, {tick_edge_bdf['pnl'].mean():.2f}, {tick_edge_bdf['pnl'].std():.2f}, {tick_edge_bdf['pnl'].sum():.2f}\")\n",
    "# fdf11.columns\n",
    "\n"
   ]
  },
  {
   "cell_type": "code",
   "execution_count": null,
   "metadata": {},
   "outputs": [],
   "source": []
  }
 ],
 "metadata": {
  "kernelspec": {
   "display_name": "Python (my_custom_env)",
   "language": "python",
   "name": "my_custom_env"
  },
  "language_info": {
   "codemirror_mode": {
    "name": "ipython",
    "version": 3
   },
   "file_extension": ".py",
   "mimetype": "text/x-python",
   "name": "python",
   "nbconvert_exporter": "python",
   "pygments_lexer": "ipython3",
   "version": "3.8.6"
  }
 },
 "nbformat": 4,
 "nbformat_minor": 2
}
