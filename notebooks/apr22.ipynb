{
 "cells": [
  {
   "cell_type": "code",
   "execution_count": 139,
   "metadata": {},
   "outputs": [
    {
     "name": "stdout",
     "output_type": "stream",
     "text": [
      "The autoreload extension is already loaded. To reload it, use:\n",
      "  %reload_ext autoreload\n"
     ]
    }
   ],
   "source": [
    "import pandas as pd\n",
    "import numpy as np\n",
    "import matplotlib.pyplot as plt\n",
    "import matplotlib.dates as mdates\n",
    "from datetime import datetime, timedelta\n",
    "\n",
    "pd.set_option('display.max_rows', 120)\n",
    "pd.set_option('display.max_columns', 120)\n",
    "\n",
    "%load_ext autoreload\n",
    "%autoreload 2\n",
    "from utils import show_heat_map, print_mutual_info, aggregate_data, resample_df, load_big_df\n",
    "from utils import two_sig_signal, two_sig_signal_multi, get_yulu_df, nice_hist_series, plot_box_plot\n",
    "from utils import plot_box_plot_a, get_future_df\n",
    "\n",
    "from lin_regr_utils import lin_regr, linearity_test, residual_independence_test, homoscedasticity_test, residual_normality_test\n",
    "from lin_regr_utils import multicollinearity_test, get_stats\n",
    "\n",
    "# import warnings\n",
    "# warnings.filterwarnings(\"ignore\", category=pd.errors.SettingWithCopyWarning)\n"
   ]
  },
  {
   "cell_type": "code",
   "execution_count": 140,
   "metadata": {},
   "outputs": [],
   "source": [
    "df_raw = pd.read_csv(\"../simulation_data/output_20250414_GALAUSDTOB500_GALAUSDTtrades_AA.csv\")\n",
    "# df_raw\n",
    "df = df_raw"
   ]
  },
  {
   "cell_type": "code",
   "execution_count": 142,
   "metadata": {},
   "outputs": [
    {
     "name": "stdout",
     "output_type": "stream",
     "text": [
      "Index(['bbid', 'bask', 'bsize', 'asize'], dtype='object')\n",
      "Index(['sell_trade_size_sum', 'sell_trade_price_min', 'sell_trade_price_max'], dtype='object')\n",
      "Index(['buy_trade_size_sum', 'buy_trade_price_min', 'buy_trade_price_max'], dtype='object')\n"
     ]
    }
   ],
   "source": [
    "# df\n",
    "df_buy, df_sell, df_ob = aggregate_data(df)\n",
    "# df_ob\n",
    "# df_sell\n",
    "# df_sell\n",
    "\n",
    "df_buy = df_buy.rename(columns={x:'buy_'+ x for x in df_buy.columns})\n",
    "df_sell = df_sell.rename(columns={x:'sell_'+ x for x in df_sell.columns})\n",
    "print(df_ob.columns)\n",
    "print(df_sell.columns)\n",
    "print(df_buy.columns)\n",
    "\n",
    "dff = df_ob.join(df_buy.join(df_sell, how='outer'), how='outer')\n",
    "# dff"
   ]
  },
  {
   "cell_type": "code",
   "execution_count": 137,
   "metadata": {},
   "outputs": [
    {
     "ename": "SyntaxError",
     "evalue": "unexpected EOF while parsing (<ipython-input-137-e2f6af1e704a>, line 1)",
     "output_type": "error",
     "traceback": [
      "\u001b[0;36m  File \u001b[0;32m\"<ipython-input-137-e2f6af1e704a>\"\u001b[0;36m, line \u001b[0;32m1\u001b[0m\n\u001b[0;31m    def add_future_columns():\u001b[0m\n\u001b[0m                             ^\u001b[0m\n\u001b[0;31mSyntaxError\u001b[0m\u001b[0;31m:\u001b[0m unexpected EOF while parsing\n"
     ]
    }
   ],
   "source": [
    "def add_future_columns(df_raw):\n",
    "    df_raw = df_raw.copy()\n",
    "    # df_buy, df_sell, df_ob = aggregate_data(df_raw)\n",
    "\n",
    "    # df_buy = df_buy.rename(columns={x:'buy_'+ x for x in df_buy.columns})\n",
    "    # df_sell = df_sell.rename(columns={x:'sell_'+ x for x in df_sell.columns})\n",
    "\n",
    "    # dff = df_ob.join(df_buy.join(df_sell, how='outer'), how='outer')\n",
    "    # fdf = get_future_df(dff.reset_index(), '5s')\n",
    "\n",
    "    df_raw['time'] = pd.to_datetime(df_raw['time'], unit='s')\n",
    "    df_raw['round_time'] = df_raw['time'].dt.round(interval)\n",
    "\n",
    "    rdf = df_raw.set_index('time', inplace=False).resample(interval).last()\n",
    "    rdf.loc[:,'mid'] = (rdf['bbid'] + rdf['bask']) / 2\n",
    "    \n",
    "    rdf.loc[:,'future_1m_mid'] = rdf['mid'].shift(-60)\n",
    "    rdf.loc[:,'future_1m_return'] = np.log(rdf['mid'].shift(-60)/rdf['mid'])\n",
    "    rdf.loc[:,'future_1m_std'] = rdf['mid'].shift(-60).rolling(60).std()\n",
    "    rdf.loc[:,'future_1m_range'] = rdf['mid'].shift(-60).rolling(60).max() - rdf['mid'].shift(-60).rolling(60).min()\n",
    "\n",
    "    rdf.loc[:,'past_1m_return'] = np.log(rdf['mid']/rdf['mid'].shift(60))\n",
    "\n",
    "    rrdf = rdf[['future_1m_mid', 'future_1m_return', 'future_1m_std', 'future_1m_range', 'past_1m_return']].reset_index()\n",
    "    rrdf = rrdf.rename(columns={'time': 'r_time'})\n",
    "\n",
    "    df_raw_r = pd.merge(df_raw, rrdf, left_on='round_time', right_on='r_time', how='left') #.drop(columns=['r_time'])\n",
    "    return"
   ]
  },
  {
   "cell_type": "code",
   "execution_count": 143,
   "metadata": {},
   "outputs": [
    {
     "data": {
      "image/png": "[encoded data removed]",
      "text/plain": [
       "<Figure size 432x288 with 1 Axes>"
      ]
     },
     "metadata": {
      "needs_background": "light"
     },
     "output_type": "display_data"
    },
    {
     "name": "stdout",
     "output_type": "stream",
     "text": [
      "4 3 3 12.450000000000001\n",
      "3 15 18 56.699999999999996\n",
      "2 61 79 169.85\n",
      "1 377 456 524.4\n",
      "0 16586 17042 2556.2999999999997\n"
     ]
    },
    {
     "data": {
      "image/png": "[encoded data removed]",
      "text/plain": [
       "<Figure size 432x288 with 1 Axes>"
      ]
     },
     "metadata": {
      "needs_background": "light"
     },
     "output_type": "display_data"
    },
    {
     "name": "stdout",
     "output_type": "stream",
     "text": [
      "4 1 1 4.15\n",
      "3 3 4 12.6\n",
      "2 41 45 96.75\n",
      "1 501 546 627.9\n",
      "0 16086 16632 2494.7999999999997\n",
      "456 546 1002\n"
     ]
    }
   ],
   "source": [
    "dff['bbid'] = dff['bbid'].ffill()\n",
    "dff['bask'] = dff['bask'].ffill()\n",
    "dff[:100]\n",
    "\n",
    "bdf = dff.dropna(subset=['buy_trade_size_sum'])\n",
    "\n",
    "bd = dict((bdf['buy_trade_price_max'] - bdf['bask']).value_counts())\n",
    "nbd = {}\n",
    "for k,v in bd.items():\n",
    "    kk = round(k*100000)\n",
    "    if not kk in nbd:\n",
    "        nbd[kk] = v\n",
    "    else:\n",
    "        nbd[kk] += v\n",
    "\n",
    "snbd = dict(sorted(list(nbd.items())))\n",
    "\n",
    "keys = [str(x) for x in list(snbd.keys())]\n",
    "values = list(snbd.values())\n",
    "plt.barh(keys, values)\n",
    "plt.show()\n",
    "\n",
    "sumv = 0\n",
    "for k, v in list(snbd.items())[::-1]:\n",
    "    if k>=0:\n",
    "        sumv += v\n",
    "        print(k, v, sumv, (k+0.15)*sumv)\n",
    "\n",
    "bsum = sum([v for k, v in snbd.items() if k>=1])\n",
    "\n",
    "sdf = dff.dropna(subset=['sell_trade_size_sum'])\n",
    "\n",
    "bd = dict((sdf['bbid'] - sdf['sell_trade_price_min']).value_counts())\n",
    "nbd = {}\n",
    "for k,v in bd.items():\n",
    "    kk = round(k*100000)\n",
    "    if not kk in nbd:\n",
    "        nbd[kk] = v\n",
    "    else:\n",
    "        nbd[kk] += v\n",
    "\n",
    "snbd = dict(sorted(list(nbd.items())))\n",
    "\n",
    "keys = [str(x) for x in list(snbd.keys())]\n",
    "values = list(snbd.values())\n",
    "plt.barh(keys, values)\n",
    "plt.show()\n",
    "# print(snbd.items())\n",
    "\n",
    "sumv = 0\n",
    "for k, v in list(snbd.items())[::-1]:\n",
    "    if k>=0:\n",
    "        sumv += v\n",
    "        print(k, v, sumv, (k+0.15)*sumv)\n",
    "\n",
    "ssum = sum([v for k, v in snbd.items() if k>=1])\n",
    "\n",
    "print(bsum, ssum, bsum + ssum)\n",
    "# print(dict((bdf['buy_trade_price_max'] - bdf['bask']).value_counts()))\n",
    "# plt.hist(bdf['buy_trade_price_max'] - bdf['bask'], bins=30)\n",
    "# plt.xticks(rotation=45)\n",
    "# plt.show()\n",
    "\n",
    "# sdf = dff.dropna(subset=['sell_trade_size_sum'])\n",
    "# plt.hist(sdf['bbid'] - sdf['sell_trade_size_sum'], bins=30)\n",
    "# plt.xticks(rotation=45)\n",
    "# plt.show()"
   ]
  },
  {
   "cell_type": "code",
   "execution_count": 144,
   "metadata": {},
   "outputs": [
    {
     "name": "stdout",
     "output_type": "stream",
     "text": [
      "fdf: Index(['time', 'bbid', 'bask', 'bsize', 'asize', 'buy_trade_size_sum',\n",
      "       'buy_trade_price_min', 'buy_trade_price_max', 'sell_trade_size_sum',\n",
      "       'sell_trade_price_min', 'sell_trade_price_max', 'round_time', 'r_time',\n",
      "       'future_1m_mid', 'future_1m_return', 'future_1m_std', 'future_1m_range',\n",
      "       'past_1m_return'],\n",
      "      dtype='object')\n",
      "159, 2.00, 4.96, 317.50\n"
     ]
    },
    {
     "name": "stderr",
     "output_type": "stream",
     "text": [
      "/Library/Frameworks/Python.framework/Versions/3.8/lib/python3.8/site-packages/pandas/core/indexing.py:1667: SettingWithCopyWarning: \n",
      "A value is trying to be set on a copy of a slice from a DataFrame.\n",
      "Try using .loc[row_indexer,col_indexer] = value instead\n",
      "\n",
      "See the caveats in the documentation: https://pandas.pydata.org/pandas-docs/stable/user_guide/indexing.html#returning-a-view-versus-a-copy\n",
      "  self.obj[key] = value\n"
     ]
    },
    {
     "data": {
      "image/png": "[encoded data removed]",
      "text/plain": [
       "<Figure size 432x288 with 1 Axes>"
      ]
     },
     "metadata": {
      "needs_background": "light"
     },
     "output_type": "display_data"
    },
    {
     "name": "stdout",
     "output_type": "stream",
     "text": [
      "182, -0.48, 4.86, -88.00\n"
     ]
    },
    {
     "data": {
      "image/png": "[encoded data removed]",
      "text/plain": [
       "<Figure size 432x288 with 1 Axes>"
      ]
     },
     "metadata": {
      "needs_background": "light"
     },
     "output_type": "display_data"
    },
    {
     "name": "stdout",
     "output_type": "stream",
     "text": [
      "182, -1.98, 4.86, -361.00\n"
     ]
    },
    {
     "data": {
      "image/png": "[encoded data removed]",
      "text/plain": [
       "<Figure size 432x288 with 1 Axes>"
      ]
     },
     "metadata": {
      "needs_background": "light"
     },
     "output_type": "display_data"
    }
   ],
   "source": [
    "# dff.iloc[300:400]\n",
    "# bdf\n",
    "\n",
    "fdf = get_future_df(dff.reset_index(), '5s')\n",
    "print(\"fdf:\", fdf.columns)\n",
    "# bdf = dff.dropna(subset=['buy_trade_size_sum'])\n",
    "\n",
    "EDGE = 1\n",
    "\n",
    "fbdf = fdf.dropna(subset=['buy_trade_size_sum'])\n",
    "tick_edge_bdf = fbdf[fbdf['buy_trade_price_max'] - fbdf['bask'] >= 0.00001 * EDGE]\n",
    "tick_edge_bdf.loc[:,'pnl'] = (tick_edge_bdf['bask'] + 0.00001 * EDGE - tick_edge_bdf['future_1m_mid']) * 100000\n",
    "\n",
    "tick_edge_bdf.loc[:,'mid'] = (tick_edge_bdf['bbid'] + tick_edge_bdf['bask']) / 2\n",
    "tick_edge_bdf.loc[:,'sprd'] = (tick_edge_bdf['bask'] - tick_edge_bdf['bbid']) * 100000\n",
    "tick_edge_bdf.loc[:,'mid_pnl'] = (tick_edge_bdf['mid'] - tick_edge_bdf['future_1m_mid']) * 100000\n",
    "\n",
    "plt.hist(tick_edge_bdf['pnl'], bins=30)\n",
    "print(f\"{tick_edge_bdf['pnl'].count()}, {tick_edge_bdf['pnl'].mean():.2f}, {tick_edge_bdf['pnl'].std():.2f}, {tick_edge_bdf['pnl'].sum():.2f}\")\n",
    "plt.show()\n",
    "# plt.hist(tick_edge_bdf['mid_pnl'], bins=30)\n",
    "# print(f\"{tick_edge_bdf['mid_pnl'].count()}, {tick_edge_bdf['mid_pnl'].mean():.2f}, {tick_edge_bdf['mid_pnl'].std():.2f}, {tick_edge_bdf['mid_pnl'].sum():.2f}\")\n",
    "# plt.show()\n",
    "\n",
    "# plt.show()\n",
    "# plt.hist(tick_edge_bdf['sprd'], bins=30)\n",
    "# print(f\"{tick_edge_bdf['sprd'].count()}, {tick_edge_bdf['sprd'].mean():.2f}, {tick_edge_bdf['sprd'].std():.2f}, {tick_edge_bdf['sprd'].sum():.2f}\")\n",
    "\n",
    "fsdf = fdf.dropna(subset=['sell_trade_size_sum'])\n",
    "tick_edge_sdf = fsdf[fsdf['bbid'] - fsdf['sell_trade_price_min'] >= 0.00001 * EDGE]\n",
    "tick_edge_sdf.loc[:,'pnl'] = (tick_edge_sdf['future_1m_mid'] - tick_edge_sdf['bbid'] + 0.00001 * EDGE) * 100000\n",
    "\n",
    "tick_edge_sdf.loc[:,'mid'] = (tick_edge_sdf['bbid'] + tick_edge_sdf['bask']) / 2\n",
    "tick_edge_sdf.loc[:,'sprd'] = (tick_edge_sdf['bask'] - tick_edge_sdf['bbid']) * 100000\n",
    "tick_edge_sdf.loc[:,'mid_pnl'] = (tick_edge_sdf['future_1m_mid'] - tick_edge_sdf['mid']) * 100000\n",
    "\n",
    "plt.hist(tick_edge_sdf['pnl'], bins=30)\n",
    "print(f\"{tick_edge_sdf['pnl'].count()}, {tick_edge_sdf['pnl'].mean():.2f}, {tick_edge_sdf['pnl'].std():.2f}, {tick_edge_sdf['pnl'].sum():.2f}\")\n",
    "plt.show()\n",
    "plt.hist(tick_edge_sdf['mid_pnl'], bins=30)\n",
    "print(f\"{tick_edge_sdf['mid_pnl'].count()}, {tick_edge_sdf['mid_pnl'].mean():.2f}, {tick_edge_sdf['mid_pnl'].std():.2f}, {tick_edge_sdf['mid_pnl'].sum():.2f}\")\n",
    "plt.show()\n"
   ]
  },
  {
   "cell_type": "code",
   "execution_count": 96,
   "metadata": {},
   "outputs": [
    {
     "name": "stdout",
     "output_type": "stream",
     "text": [
      "<class 'pandas.core.frame.DataFrame'>\n",
      "Int64Index: 636928 entries, 0 to 636927\n",
      "Data columns (total 18 columns):\n",
      " #   Column                Non-Null Count   Dtype         \n",
      "---  ------                --------------   -----         \n",
      " 0   time                  636928 non-null  datetime64[ns]\n",
      " 1   bbid                  636928 non-null  float64       \n",
      " 2   bask                  636928 non-null  float64       \n",
      " 3   bsize                 606235 non-null  float64       \n",
      " 4   asize                 606235 non-null  float64       \n",
      " 5   round_time            636928 non-null  datetime64[ns]\n",
      " 6   buy_trade_size_sum    15575 non-null   float64       \n",
      " 7   buy_trade_price_min   15575 non-null   float64       \n",
      " 8   buy_trade_price_max   15575 non-null   float64       \n",
      " 9   sell_trade_size_sum   15167 non-null   float64       \n",
      " 10  sell_trade_price_min  15167 non-null   float64       \n",
      " 11  sell_trade_price_max  15167 non-null   float64       \n",
      " 12  r_time                63129 non-null   datetime64[ns]\n",
      " 13  future_1m_mid         62727 non-null   float64       \n",
      " 14  future_1m_return      62727 non-null   float64       \n",
      " 15  future_1m_std         62310 non-null   float64       \n",
      " 16  future_1m_range       62310 non-null   float64       \n",
      " 17  past_1m_return        62706 non-null   float64       \n",
      "dtypes: datetime64[ns](3), float64(15)\n",
      "memory usage: 92.3 MB\n"
     ]
    }
   ],
   "source": [
    "fdf.info()"
   ]
  },
  {
   "cell_type": "code",
   "execution_count": null,
   "metadata": {},
   "outputs": [],
   "source": [
    "def get_yulu_df():\n",
    "    def process(df_raw):\n",
    "        df_raw = df_raw[['time', 'mid', 'trade_side', 'trade_size', 'trade_price']]\n",
    "        # display(df_raw)\n",
    "\n",
    "        df_raw['mul'] = df_raw['trade_size'] * df_raw['trade_price']\n",
    "        df_raw['time'] = pd.to_datetime(df_raw['time'], unit='s')\n",
    "\n",
    "        # Group by 'time' and conditionally sum 'A' based on 'B' == 'X'\n",
    "        df_buy = df_raw[df_raw['trade_side'] == 'Buy'].groupby('time', as_index=False).agg(\n",
    "            trade_mul_sum=('mul', 'sum'),\n",
    "            trade_size_sum=('trade_size', 'sum'),\n",
    "        )\n",
    "        df_sell = df_raw[df_raw['trade_side'] == 'Sell'].groupby('time', as_index=False).agg(\n",
    "            trade_mul_sum=('mul', 'sum'),\n",
    "            trade_size_sum=('trade_size', 'sum'),\n",
    "        )\n",
    "\n",
    "        df_buy.set_index('time', inplace=True)\n",
    "        df_sell.set_index('time', inplace=True)\n",
    "\n",
    "        df_ob = df_raw[df_raw['trade_side'].isna()].drop(columns=['trade_side', 'trade_size', 'trade_price'])\n",
    "        df_ob.set_index('time', inplace=True)\n",
    "\n",
    "        time_step = '1T'\n",
    "        # SUM_TRADE_SIZE = df_raw['trade_size'].sum()\n",
    "        df_buy_resampled = df_buy.resample(time_step).agg({\n",
    "                'trade_size_sum': 'sum',  # Sum for size\n",
    "                'trade_mul_sum': 'sum',  # Min for min price\n",
    "            }).rename(columns={'trade_size_sum': 'buy_size', 'trade_mul_sum': 'buy_mul'})\n",
    "        df_sell_resampled = df_sell.resample(time_step).agg({\n",
    "                'trade_size_sum': 'sum',  # Sum for size\n",
    "                'trade_mul_sum': 'sum',  # Min for min price\n",
    "            }).rename(columns={'trade_size_sum': 'sell_size', 'trade_mul_sum': 'sell_mul'})\n",
    "        df_ob_resampled = df_ob.resample(time_step).last()\n",
    "        df = df_ob_resampled.join(df_buy_resampled.join(df_sell_resampled, how='outer'), how='outer')\n",
    "\n",
    "        for col in ['buy_size', 'sell_size']:\n",
    "            df[col] = df[col].fillna(0)\n",
    "\n",
    "        for col in ['mid']:\n",
    "            df[col] = df[col].ffill()  \n",
    "        return df\n",
    "\n",
    "    from tqdm import tqdm\n",
    "    start_date_str = \"20250213\"\n",
    "    end_date_str = \"20250314\"\n",
    "    name_template = \"output_2025-03-15_{}_HYPEUSDTOB500_HYPEUSDTtrades_VX.csv\"\n",
    "\n",
    "    big_df = []\n",
    "\n",
    "    start_date = datetime.strptime(start_date_str, \"%Y%m%d\")\n",
    "    end_date = datetime.strptime(end_date_str, \"%Y%m%d\")\n",
    "\n",
    "    date_range = [start_date + timedelta(days=i) for i in range((end_date - start_date).days + 1)]\n",
    "\n",
    "    for date in tqdm(date_range):\n",
    "        date_str = date.strftime('%Y%m%d')\n",
    "        filename = name_template.format(date_str)\n",
    "        df_raw = pd.read_csv(f\"../simulation_data/{filename}\")\n",
    "        df1 = process(df_raw)\n",
    "        # df_buy, df_sell, df_ob = aggregate_data(df_raw)\n",
    "        # df = resample_df(df_buy, df_sell, df_ob, '30s')\n",
    "        big_df.append(df1)\n",
    "\n",
    "    df2 = pd.concat(big_df, axis=0, ignore_index=False)\n",
    "    df2.to_csv('dataframes/HYPEUSDT_mar16_yulu.csv', index=True)\n",
    "\n",
    "    df2['vwap'] = (df2['buy_mul'] + df2['sell_mul']) / (df2['buy_size'] + df2['sell_size'])\n",
    "    df2['alpha1'] = 1.0 * (df2['vwap'] - df2['mid'])\n",
    "    df2['alpha2'] = df2['alpha1'].ewm(span=3, adjust=False).mean()\n",
    "    return df2"
   ]
  },
  {
   "cell_type": "code",
   "execution_count": 67,
   "metadata": {},
   "outputs": [],
   "source": [
    "def process_yulu(df_raw, time_step='1T'):\n",
    "    df_raw = df_raw[['time', 'mid', 'trade_side', 'trade_size', 'trade_price']]\n",
    "    # display(df_raw)\n",
    "\n",
    "    df_raw['mul'] = df_raw['trade_size'] * df_raw['trade_price']\n",
    "    df_raw['time'] = pd.to_datetime(df_raw['time'], unit='s')\n",
    "\n",
    "    # Group by 'time' and conditionally sum 'A' based on 'B' == 'X'\n",
    "    df_buy = df_raw[df_raw['trade_side'] == 'Buy'].groupby('time', as_index=False).agg(\n",
    "        trade_mul_sum=('mul', 'sum'),\n",
    "        trade_size_sum=('trade_size', 'sum'),\n",
    "    )\n",
    "    df_sell = df_raw[df_raw['trade_side'] == 'Sell'].groupby('time', as_index=False).agg(\n",
    "        trade_mul_sum=('mul', 'sum'),\n",
    "        trade_size_sum=('trade_size', 'sum'),\n",
    "    )\n",
    "\n",
    "    df_buy.set_index('time', inplace=True)\n",
    "    df_sell.set_index('time', inplace=True)\n",
    "\n",
    "    df_ob = df_raw[df_raw['trade_side'].isna()].drop(columns=['trade_side', 'trade_size', 'trade_price'])\n",
    "    df_ob.set_index('time', inplace=True)\n",
    "\n",
    "    # time_step = '1T'\n",
    "    # SUM_TRADE_SIZE = df_raw['trade_size'].sum()\n",
    "    df_buy_resampled = df_buy.resample(time_step).agg({\n",
    "            'trade_size_sum': 'sum',  # Sum for size\n",
    "            'trade_mul_sum': 'sum',  # Min for min price\n",
    "        }).rename(columns={'trade_size_sum': 'buy_size', 'trade_mul_sum': 'buy_mul'})\n",
    "    df_sell_resampled = df_sell.resample(time_step).agg({\n",
    "            'trade_size_sum': 'sum',  # Sum for size\n",
    "            'trade_mul_sum': 'sum',  # Min for min price\n",
    "        }).rename(columns={'trade_size_sum': 'sell_size', 'trade_mul_sum': 'sell_mul'})\n",
    "    df_ob_resampled = df_ob.resample(time_step).last()\n",
    "    df = df_ob_resampled.join(df_buy_resampled.join(df_sell_resampled, how='outer'), how='outer')\n",
    "\n",
    "    for col in ['buy_size', 'sell_size']:\n",
    "        df[col] = df[col].fillna(0)\n",
    "\n",
    "    for col in ['mid']:\n",
    "        df[col] = df[col].ffill()  \n",
    "    return df"
   ]
  },
  {
   "cell_type": "code",
   "execution_count": 73,
   "metadata": {},
   "outputs": [
    {
     "name": "stderr",
     "output_type": "stream",
     "text": [
      "<ipython-input-67-ea538cfc1cd1>:5: SettingWithCopyWarning: \n",
      "A value is trying to be set on a copy of a slice from a DataFrame.\n",
      "Try using .loc[row_indexer,col_indexer] = value instead\n",
      "\n",
      "See the caveats in the documentation: https://pandas.pydata.org/pandas-docs/stable/user_guide/indexing.html#returning-a-view-versus-a-copy\n",
      "  df_raw['mul'] = df_raw['trade_size'] * df_raw['trade_price']\n",
      "<ipython-input-67-ea538cfc1cd1>:6: SettingWithCopyWarning: \n",
      "A value is trying to be set on a copy of a slice from a DataFrame.\n",
      "Try using .loc[row_indexer,col_indexer] = value instead\n",
      "\n",
      "See the caveats in the documentation: https://pandas.pydata.org/pandas-docs/stable/user_guide/indexing.html#returning-a-view-versus-a-copy\n",
      "  df_raw['time'] = pd.to_datetime(df_raw['time'], unit='s')\n"
     ]
    },
    {
     "name": "stdout",
     "output_type": "stream",
     "text": [
      "<class 'pandas.core.frame.DataFrame'>\n",
      "Int64Index: 704127 entries, 0 to 704126\n",
      "Data columns (total 18 columns):\n",
      " #   Column       Non-Null Count   Dtype         \n",
      "---  ------       --------------   -----         \n",
      " 0   time         704127 non-null  datetime64[ns]\n",
      " 1   bbid         606235 non-null  float64       \n",
      " 2   bask         606235 non-null  float64       \n",
      " 3   bsize        606235 non-null  float64       \n",
      " 4   asize        606235 non-null  float64       \n",
      " 5   trade_side   97892 non-null   object        \n",
      " 6   trade_size   97892 non-null   float64       \n",
      " 7   trade_price  97892 non-null   float64       \n",
      " 8   round_time   704127 non-null  datetime64[ns]\n",
      " 9   r_time       704127 non-null  datetime64[ns]\n",
      " 10  mid          704127 non-null  float64       \n",
      " 11  mul          0 non-null       float64       \n",
      " 12  buy_size     704127 non-null  float64       \n",
      " 13  buy_mul      703798 non-null  float64       \n",
      " 14  sell_size    704127 non-null  float64       \n",
      " 15  sell_mul     703925 non-null  float64       \n",
      " 16  vwap         564574 non-null  float64       \n",
      " 17  alpha        89353 non-null   float64       \n",
      "dtypes: datetime64[ns](3), float64(14), object(1)\n",
      "memory usage: 102.1+ MB\n"
     ]
    },
    {
     "data": {
      "image/png": "[encoded data removed]",
      "text/plain": [
       "<Figure size 432x288 with 1 Axes>"
      ]
     },
     "metadata": {
      "needs_background": "light"
     },
     "output_type": "display_data"
    }
   ],
   "source": [
    "TIME_STEP = '10S'\n",
    "\n",
    "ydf = df_raw[df_raw.columns]\n",
    "ydf['mid'] = (ydf['bbid'] + ydf['bask']) / 2\n",
    "\n",
    "df1 = process_yulu(ydf, TIME_STEP)\n",
    "df1['vwap'] = (df1['buy_mul'] + df1['sell_mul']) / (df1['buy_size'] + df1['sell_size'])\n",
    "df1['alpha'] = np.log(df1['vwap'].rolling(5).mean() / df1['vwap'].rolling(20).mean())\n",
    "fdf1 = get_future_df_yulu(df_raw, df1.reset_index(), TIME_STEP)\n",
    "\n",
    "plt.hist(fdf1['vwap'], bins=30)\n",
    "fdf1.info()"
   ]
  },
  {
   "cell_type": "code",
   "execution_count": 66,
   "metadata": {},
   "outputs": [],
   "source": [
    "def get_future_df_yulu(df_raw, ref_df, interval='1S'):\n",
    "    df_raw['time'] = pd.to_datetime(df_raw['time'], unit='s')\n",
    "    df_raw['round_time'] = df_raw['time'].dt.round(interval)\n",
    "    \n",
    "    rrdf = ref_df.rename(columns={'time': 'r_time'})\n",
    "\n",
    "    df_raw_r = pd.merge(df_raw, rrdf, left_on='round_time', right_on='r_time', how='left') #.drop(columns=['r_time'])\n",
    "    return df_raw_r"
   ]
  },
  {
   "cell_type": "code",
   "execution_count": 82,
   "metadata": {},
   "outputs": [
    {
     "data": {
      "image/png": "[encoded data removed]",
      "text/plain": [
       "<Figure size 432x288 with 1 Axes>"
      ]
     },
     "metadata": {
      "needs_background": "light"
     },
     "output_type": "display_data"
    },
    {
     "data": {
      "image/png": "[encoded data removed]",
      "text/plain": [
       "<Figure size 720x432 with 1 Axes>"
      ]
     },
     "metadata": {
      "needs_background": "light"
     },
     "output_type": "display_data"
    }
   ],
   "source": [
    "dff.iloc[300:400]\n",
    "# bdf\n",
    "\n",
    "fdf11 = get_future_df(fdf1.reset_index(), '5S')\n",
    "\n",
    "# bdf = dff.dropna(subset=['buy_trade_size_sum'])\n",
    "# fbdf = fdf.dropna(subset=['buy_trade_size_sum'])\n",
    "\n",
    "# EDGE = 1\n",
    "\n",
    "# tick_edge_bdf = fbdf[fbdf['buy_trade_price_max'] - fbdf['bask'] >= 0.00001 * EDGE]\n",
    "# tick_edge_bdf['pnl'] = (tick_edge_bdf['bask'] + 0.00001 * EDGE - tick_edge_bdf['future_1m_mid']) * 100000\n",
    "# tick_edge_bdf['mid_pnl'] = (tick_edge_bdf['future_1m_mid'] - tick_edge_bdf['mid']) * 100000\n",
    "# plt.hist(tick_edge_bdf['pnl'], bins=30)\n",
    "# print(f\"{len(tick_edge_bdf)}, {tick_edge_bdf['pnl'].mean():.2f}, {tick_edge_bdf['pnl'].std():.2f}, {tick_edge_bdf['pnl'].sum():.2f}\")\n",
    "fdf11.columns\n",
    "\n",
    "plt.scatter(fdf11['alpha'], fdf11['future_1m_return'])\n",
    "\n",
    "plot_box_plot_a(fdf11, 'alpha', 'future_1m_return')"
   ]
  },
  {
   "cell_type": "code",
   "execution_count": 102,
   "metadata": {},
   "outputs": [
    {
     "data": {
      "text/plain": [
       "[<matplotlib.lines.Line2D at 0x7f98cb911ee0>]"
      ]
     },
     "execution_count": 102,
     "metadata": {},
     "output_type": "execute_result"
    },
    {
     "data": {
      "image/png": "[encoded data removed]",
      "text/plain": [
       "<Figure size 432x288 with 1 Axes>"
      ]
     },
     "metadata": {
      "needs_background": "light"
     },
     "output_type": "display_data"
    }
   ],
   "source": [
    "plt.plot(df_raw['bbid'])"
   ]
  },
  {
   "cell_type": "code",
   "execution_count": null,
   "metadata": {},
   "outputs": [],
   "source": []
  }
 ],
 "metadata": {
  "kernelspec": {
   "display_name": "Python (my_custom_env)",
   "language": "python",
   "name": "my_custom_env"
  },
  "language_info": {
   "codemirror_mode": {
    "name": "ipython",
    "version": 3
   },
   "file_extension": ".py",
   "mimetype": "text/x-python",
   "name": "python",
   "nbconvert_exporter": "python",
   "pygments_lexer": "ipython3",
   "version": "3.8.6"
  }
 },
 "nbformat": 4,
 "nbformat_minor": 2
}
