{
 "cells": [
  {
   "cell_type": "code",
   "execution_count": 35,
   "metadata": {},
   "outputs": [],
   "source": [
    "from DataLibrary import DataLibrary\n",
    "import FeatureTester\n",
    "import asyncio"
   ]
  },
  {
   "cell_type": "code",
   "execution_count": 36,
   "metadata": {},
   "outputs": [
    {
     "name": "stderr",
     "output_type": "stream",
     "text": [
      "Processing symbols: 100%|██████████| 1/1 [00:02<00:00,  2.12s/it]\n"
     ]
    },
    {
     "ename": "TypeError",
     "evalue": "DataLibrary.processDFS() takes 1 positional argument but 2 were given",
     "output_type": "error",
     "traceback": [
      "\u001b[0;31m---------------------------------------------------------------------------\u001b[0m",
      "\u001b[0;31mTypeError\u001b[0m                                 Traceback (most recent call last)",
      "Cell \u001b[0;32mIn[36], line 4\u001b[0m\n\u001b[1;32m      1\u001b[0m coins \u001b[38;5;241m=\u001b[39m [\u001b[38;5;124m\"\u001b[39m\u001b[38;5;124mBTCUSDT\u001b[39m\u001b[38;5;124m\"\u001b[39m]\n\u001b[1;32m      2\u001b[0m data \u001b[38;5;241m=\u001b[39m DataLibrary(coins\u001b[38;5;241m=\u001b[39mcoins, DIRECTORY\u001b[38;5;241m=\u001b[39m\u001b[38;5;124m\"\u001b[39m\u001b[38;5;124mtest_data\u001b[39m\u001b[38;5;124m\"\u001b[39m)\n\u001b[0;32m----> 4\u001b[0m newdata \u001b[38;5;241m=\u001b[39m \u001b[38;5;28;01mawait\u001b[39;00m data\u001b[38;5;241m.\u001b[39mget_symbols()  \u001b[38;5;66;03m# Await the coroutine\u001b[39;00m\n\u001b[1;32m      5\u001b[0m \u001b[38;5;28mprint\u001b[39m(newdata)\n",
      "File \u001b[0;32m~/repos/research/DataLibrary.py:122\u001b[0m, in \u001b[0;36mget_symbols\u001b[0;34m(self)\u001b[0m\n\u001b[1;32m      0\u001b[0m <Error retrieving source code with stack_data see ipython/ipython#13598>\n",
      "\u001b[0;31mTypeError\u001b[0m: DataLibrary.processDFS() takes 1 positional argument but 2 were given"
     ]
    }
   ],
   "source": [
    "coins = [\"BTCUSDT\"]\n",
    "data = DataLibrary(coins=coins, DIRECTORY=\"test_data\")\n",
    "\n",
    "newdata = await data.get_symbols()  # Await the coroutine\n",
    "print(newdata)\n"
   ]
  }
 ],
 "metadata": {
  "kernelspec": {
   "display_name": "tradingEnv",
   "language": "python",
   "name": "python3"
  },
  "language_info": {
   "codemirror_mode": {
    "name": "ipython",
    "version": 3
   },
   "file_extension": ".py",
   "mimetype": "text/x-python",
   "name": "python",
   "nbconvert_exporter": "python",
   "pygments_lexer": "ipython3",
   "version": "3.12.7"
  }
 },
 "nbformat": 4,
 "nbformat_minor": 2
}
